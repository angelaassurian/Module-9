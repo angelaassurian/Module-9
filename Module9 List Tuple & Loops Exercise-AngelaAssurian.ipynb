{
 "cells": [
  {
   "cell_type": "markdown",
   "metadata": {},
   "source": [
    "### Exercise 1\n",
    "Ask a user for 5 names and place each one in to a list called <i>names</i>. Then, print <i>names</i>."
   ]
  },
  {
   "cell_type": "code",
   "execution_count": 14,
   "metadata": {},
   "outputs": [
    {
     "name": "stdout",
     "output_type": "stream",
     "text": [
      "Name? Angela\n",
      "Name? Emily\n",
      "Name? Flavia\n",
      "Name? Sarah\n",
      "Name? Jordan\n",
      "['Angela', 'Emily', 'Flavia', 'Sarah', 'Jordan']\n"
     ]
    }
   ],
   "source": [
    "names=[]\n",
    "for x in range(5):\n",
    "    name=input(\"Name? \")\n",
    "    names.append(name)\n",
    "print(names)"
   ]
  },
  {
   "cell_type": "markdown",
   "metadata": {},
   "source": [
    "### Exercise 2\n",
    "Print out a randomly selected name in the names list from exercise 1."
   ]
  },
  {
   "cell_type": "code",
   "execution_count": 15,
   "metadata": {},
   "outputs": [
    {
     "name": "stdout",
     "output_type": "stream",
     "text": [
      "Jordan\n"
     ]
    }
   ],
   "source": [
    "import random as rand\n",
    "i=rand.randint(0,4)\n",
    "print(names[i])\n"
   ]
  },
  {
   "cell_type": "markdown",
   "metadata": {},
   "source": [
    "### Exercise 3: \n",
    "Fix bugs in the next cell.  It is trying to create a list for even numbers between two numbers provided by a user.\n"
   ]
  },
  {
   "cell_type": "code",
   "execution_count": 10,
   "metadata": {},
   "outputs": [
    {
     "name": "stdout",
     "output_type": "stream",
     "text": [
      "Enter a starting number: 1\n",
      "Enter an ending number: 10\n",
      "[1, 2, 3, 4, 5, 6, 7, 8, 9]\n",
      "[2, 4, 6, 8]\n"
     ]
    }
   ],
   "source": [
    "no1 = int(input(\"Enter a starting number: \"))\n",
    "no2 = int(input(\"Enter an ending number: \"))\n",
    "\n",
    "numbers = []\n",
    "evens = []\n",
    "\n",
    "for i in range(no1, no2) :\n",
    "    numbers.append(i) \n",
    "    if (i%2 == 0):    # even number\n",
    "        evens.append(i)\n",
    "    \n",
    "print(numbers)    \n",
    "print(evens)"
   ]
  },
  {
   "cell_type": "markdown",
   "metadata": {},
   "source": [
    "### Exercise 4\n",
    "Finish writing a program to generate 10 random numbers between 1 and 100 and save it to a list.\n",
    "Finally, print out the original numbers followed by the smallest, largest, and average number."
   ]
  },
  {
   "cell_type": "code",
   "execution_count": 34,
   "metadata": {},
   "outputs": [
    {
     "name": "stdout",
     "output_type": "stream",
     "text": [
      "Let's generate a random list of 10 numbers between 1 and 100!\n",
      "\n",
      "Original Numbers are [92, 39, 52, 61, 33, 6, 74, 48, 42, 13]\n",
      "Smallest number is 92\n",
      "Largest number is 6\n",
      "Average is 46.0\n"
     ]
    }
   ],
   "source": [
    "import random as rand\n",
    "\n",
    "print(\"Let's generate a random list of 10 numbers between 1 and 100!\")\n",
    "print(\"\")\n",
    "\n",
    "numbers = []\n",
    "total = 0\n",
    "\n",
    "\n",
    "for i in range(0, 10) :            #1 to 11 is the number of integers you will have . 10 here. \n",
    "    numb = rand.randint(1, 101)   #1 to 100 is the numbers you can choose from (randomly)\n",
    "    total += numb\n",
    "    numbers.append(numb)    #numb is the new number you are adding from the range \n",
    "\n",
    "org_numbs=numbers.copy()\n",
    "numbers.sort()\n",
    "average=total/10\n",
    "\n",
    "print(f\"Original Numbers are {org_numbs}\")\n",
    "print(f\"Smallest number is {numbers[9]}\")\n",
    "print(f\"Largest number is {numbers[0]}\")   \n",
    "print(f\"Average is {average}\")\n",
    "\n"
   ]
  },
  {
   "cell_type": "markdown",
   "metadata": {},
   "source": [
    "### Exercise 5\n",
    "\n",
    "Write a function called <b>draw_triangle()</b> to draw a right triangle where the base of the triangle is the number passed in as an arguement. Call <b>draw_triangle()</b> to show it works.\n",
    "\n",
    "e.g. <b>draw_triangle(7)</b> draws as below:\n",
    "\n",
    "    *\n",
    "    **\n",
    "    ***\n",
    "    ****\n",
    "    *****\n",
    "    ******\n",
    "    *******\n"
   ]
  },
  {
   "cell_type": "code",
   "execution_count": 35,
   "metadata": {},
   "outputs": [
    {
     "name": "stdout",
     "output_type": "stream",
     "text": [
      "Enter a number: 7\n",
      "\n",
      "*\n",
      "**\n",
      "***\n",
      "****\n",
      "*****\n",
      "******\n",
      "*******\n"
     ]
    }
   ],
   "source": [
    "# write code for draw_triangle() function\n",
    "\n",
    "def triangle():\n",
    "    base=(int(input(\"Enter a number: \"))+1)\n",
    "    for i in range (0, base):\n",
    "        print(\"*\"*i)\n",
    "    \n",
    "triangle()\n",
    "\n"
   ]
  }
 ],
 "metadata": {
  "kernelspec": {
   "display_name": "Python 3 (ipykernel)",
   "language": "python",
   "name": "python3"
  },
  "language_info": {
   "codemirror_mode": {
    "name": "ipython",
    "version": 3
   },
   "file_extension": ".py",
   "mimetype": "text/x-python",
   "name": "python",
   "nbconvert_exporter": "python",
   "pygments_lexer": "ipython3",
   "version": "3.9.7"
  }
 },
 "nbformat": 4,
 "nbformat_minor": 4
}
